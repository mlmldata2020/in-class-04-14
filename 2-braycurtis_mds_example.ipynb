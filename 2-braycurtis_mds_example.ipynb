{
 "cells": [
  {
   "cell_type": "markdown",
   "metadata": {},
   "source": [
    "## Distance and multi-dimensional scaling (MDS)"
   ]
  },
  {
   "cell_type": "code",
   "execution_count": 134,
   "metadata": {},
   "outputs": [],
   "source": [
    "import numpy as np\n",
    "import matplotlib.pyplot as plt\n",
    "\n",
    "from scipy.spatial import distance\n",
    "\n",
    "from sklearn.neighbors import DistanceMetric\n",
    "from sklearn.manifold import MDS"
   ]
  },
  {
   "cell_type": "markdown",
   "metadata": {},
   "source": [
    "### Data\n",
    "\n",
    "Counts of four different species from three different sites (sites u, v, and q). \n",
    "\n",
    "\"Toy\" data set constructed to illustrate distance calculations and multidimensional scaling."
   ]
  },
  {
   "cell_type": "code",
   "execution_count": 135,
   "metadata": {},
   "outputs": [],
   "source": [
    "u = [415,200,310,411]\n",
    "v = [615,100,330,203]\n",
    "q = [614,101,331,202]"
   ]
  },
  {
   "cell_type": "markdown",
   "metadata": {},
   "source": [
    "*In-class Problem:* Compute Bray-Curtis distance between two sites.\n",
    "\n",
    "$$ d = \\frac{\\sum |u_i - v_i|}{\\sum(u_i + v_i)} $$\n",
    "\n",
    "Which two sites will have the smallest distance?"
   ]
  },
  {
   "cell_type": "code",
   "execution_count": null,
   "metadata": {},
   "outputs": [],
   "source": []
  },
  {
   "cell_type": "markdown",
   "metadata": {},
   "source": [
    "Create one 2D array from the three 1D arrays."
   ]
  },
  {
   "cell_type": "code",
   "execution_count": 136,
   "metadata": {},
   "outputs": [],
   "source": [
    "data = np.array([u,v,q])"
   ]
  },
  {
   "cell_type": "code",
   "execution_count": 137,
   "metadata": {},
   "outputs": [
    {
     "data": {
      "text/plain": [
       "array([[415, 200, 310, 411],\n",
       "       [615, 100, 330, 203],\n",
       "       [614, 101, 331, 202]])"
      ]
     },
     "execution_count": 137,
     "metadata": {},
     "output_type": "execute_result"
    }
   ],
   "source": [
    "data"
   ]
  },
  {
   "cell_type": "markdown",
   "metadata": {},
   "source": [
    "#### Compute Bray-Curtis distance\n",
    "\n",
    "##### Method 1: SciPy"
   ]
  },
  {
   "cell_type": "code",
   "execution_count": 138,
   "metadata": {},
   "outputs": [],
   "source": [
    "dist = distance.pdist(data,'braycurtis')"
   ]
  },
  {
   "cell_type": "code",
   "execution_count": 139,
   "metadata": {},
   "outputs": [
    {
     "data": {
      "text/plain": [
       "array([0.20433437, 0.20433437, 0.00160256])"
      ]
     },
     "execution_count": 139,
     "metadata": {},
     "output_type": "execute_result"
    }
   ],
   "source": [
    "dist"
   ]
  },
  {
   "cell_type": "code",
   "execution_count": 140,
   "metadata": {},
   "outputs": [],
   "source": [
    "distmatrix = distance.squareform(dist)"
   ]
  },
  {
   "cell_type": "code",
   "execution_count": 141,
   "metadata": {},
   "outputs": [
    {
     "data": {
      "text/plain": [
       "array([[0.        , 0.20433437, 0.20433437],\n",
       "       [0.20433437, 0.        , 0.00160256],\n",
       "       [0.20433437, 0.00160256, 0.        ]])"
      ]
     },
     "execution_count": 141,
     "metadata": {},
     "output_type": "execute_result"
    }
   ],
   "source": [
    "distmatrix"
   ]
  },
  {
   "cell_type": "markdown",
   "metadata": {},
   "source": [
    "##### Method 2: scikit-learn"
   ]
  },
  {
   "cell_type": "code",
   "execution_count": 142,
   "metadata": {},
   "outputs": [
    {
     "data": {
      "text/plain": [
       "array([[0.        , 0.20433437, 0.20433437],\n",
       "       [0.20433437, 0.        , 0.00160256],\n",
       "       [0.20433437, 0.00160256, 0.        ]])"
      ]
     },
     "execution_count": 142,
     "metadata": {},
     "output_type": "execute_result"
    }
   ],
   "source": [
    "distmetric = DistanceMetric.get_metric('braycurtis')\n",
    "dist2 = distmetric.pairwise(data)\n",
    "dist2"
   ]
  },
  {
   "cell_type": "markdown",
   "metadata": {},
   "source": [
    "#### Multi-dimensional scaling (MDS)\n",
    "\n",
    "Metric and non-metric MDS"
   ]
  },
  {
   "cell_type": "code",
   "execution_count": 143,
   "metadata": {},
   "outputs": [],
   "source": [
    "metric_MDS = MDS(n_components=2, dissimilarity ='precomputed', metric=True)\n",
    "nonmetric_MDS = MDS(n_components=2, dissimilarity ='precomputed', metric=False)\n",
    "\n",
    "all_MDS = metric_MDS.fit_transform(dist2)\n",
    "all_nMDS = nonmetric_MDS.fit_transform(dist2)"
   ]
  },
  {
   "cell_type": "code",
   "execution_count": 144,
   "metadata": {},
   "outputs": [
    {
     "data": {
      "text/plain": [
       "array([[-0.06757764, -0.11827113],\n",
       "       [ 0.03272916,  0.05974104],\n",
       "       [ 0.03484849,  0.05853009]])"
      ]
     },
     "execution_count": 144,
     "metadata": {},
     "output_type": "execute_result"
    }
   ],
   "source": [
    "all_MDS"
   ]
  },
  {
   "cell_type": "code",
   "execution_count": 145,
   "metadata": {},
   "outputs": [
    {
     "data": {
      "image/png": "[encoded data removed]",
      "text/plain": [
       "<Figure size 432x288 with 1 Axes>"
      ]
     },
     "metadata": {
      "needs_background": "light"
     },
     "output_type": "display_data"
    }
   ],
   "source": [
    "plt.figure()\n",
    "plt.plot(all_MDS[:,0],all_MDS[:,1],'.')\n",
    "plt.gca().axis('equal')\n",
    "\n",
    "# labels, only include if necessary\n",
    "for i,label in enumerate(['u','v','q']):\n",
    "    plt.text(all_MDS[i,0],all_MDS[i,1],label)"
   ]
  },
  {
   "cell_type": "code",
   "execution_count": 146,
   "metadata": {},
   "outputs": [
    {
     "data": {
      "image/png": "[encoded data removed]",
      "text/plain": [
       "<Figure size 432x288 with 1 Axes>"
      ]
     },
     "metadata": {
      "needs_background": "light"
     },
     "output_type": "display_data"
    }
   ],
   "source": [
    "plt.figure()\n",
    "plt.plot(all_nMDS[:,0],all_nMDS[:,1],'.')\n",
    "plt.gca().axis('equal')\n",
    "\n",
    "for i,label in enumerate(['u','v','q']):\n",
    "    plt.text(all_nMDS[i,0],all_nMDS[i,1],label)"
   ]
  },
  {
   "cell_type": "code",
   "execution_count": null,
   "metadata": {},
   "outputs": [],
   "source": []
  }
 ],
 "metadata": {
  "anaconda-cloud": {},
  "kernelspec": {
   "display_name": "Python [conda env:ms263]",
   "language": "python",
   "name": "conda-env-ms263-py"
  },
  "language_info": {
   "codemirror_mode": {
    "name": "ipython",
    "version": 3
   },
   "file_extension": ".py",
   "mimetype": "text/x-python",
   "name": "python",
   "nbconvert_exporter": "python",
   "pygments_lexer": "ipython3",
   "version": "3.7.6"
  }
 },
 "nbformat": 4,
 "nbformat_minor": 4
}
